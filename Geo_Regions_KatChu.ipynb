{
 "cells": [
  {
   "cell_type": "code",
   "execution_count": null,
   "metadata": {},
   "outputs": [],
   "source": [
    "import pandas as pd\n",
    "import numpy as np\n",
    "import json\n",
    "bf_geocode= pd.read_csv('../Bootcamp-Project-1/bfro_reports_geocoded.csv')\n",
    "bf_reports= pd.read_csv('../Bootcamp-Project-1/bfro_locations.csv')\n",
    "bf_json=pd.read_json('../Bootcamp-Project-1/bfro_reports.json',encoding='utf-8',lines=True)\n",
    "bf_json.head()"
   ]
  }
 ],
 "metadata": {
  "kernelspec": {
   "display_name": "base",
   "language": "python",
   "name": "python3"
  },
  "language_info": {
   "name": "python",
   "version": "3.12.4"
  }
 },
 "nbformat": 4,
 "nbformat_minor": 2
}

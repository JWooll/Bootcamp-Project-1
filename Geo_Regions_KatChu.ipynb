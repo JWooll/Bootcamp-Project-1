{
 "cells": [
  {
   "cell_type": "code",
   "execution_count": 111,
   "metadata": {},
   "outputs": [],
   "source": [
    "import pandas as pd\n",
    "import matplotlib.pyplot as plt\n",
    "\n",
    "# Load the data bfro_reports_geogoded.csv. This is the combined data which has the states and classifcation. \n",
    "bf_geocode= pd.read_csv('../Bootcamp-Project-1/bfro_reports_geocoded.csv')"
   ]
  },
  {
   "cell_type": "code",
   "execution_count": 121,
   "metadata": {},
   "outputs": [
    {
     "name": "stdout",
     "output_type": "stream",
     "text": [
      "           state classification      region\n",
      "0        Wyoming        Class B  West Coast\n",
      "1  West Virginia        Class A       South\n",
      "2        Vermont        Class A   Northeast\n",
      "3       Virginia        Class A       South\n",
      "4          Texas        Class A       South\n",
      "           state classification\n",
      "0        Wyoming        Class B\n",
      "1  West Virginia        Class A\n",
      "2        Vermont        Class A\n",
      "3       Virginia        Class A\n",
      "4          Texas        Class A\n"
     ]
    }
   ],
   "source": [
    "# Display the first few rows\n",
    "print(bf_geocode.head())\n",
    "\n",
    "#Removing the other columnns I do not need\n",
    "bf_geocode = bf_geocode[['state', 'classification']]\n",
    "\n",
    "#Checking to see the dataset\n",
    "print(bf_geocode.head())"
   ]
  },
  {
   "cell_type": "code",
   "execution_count": 122,
   "metadata": {},
   "outputs": [
    {
     "name": "stdout",
     "output_type": "stream",
     "text": [
      "['Wyoming' 'West Virginia' 'Vermont' 'Virginia' 'Texas' 'Tennessee'\n",
      " 'South Carolina' 'Rhode Island' 'Pennsylvania' 'Oregon' 'Oklahoma' 'Ohio'\n",
      " 'New York' 'Utah' 'Washington' 'Wisconsin' 'South Dakota' 'Nevada'\n",
      " 'New Jersey' 'New Hampshire' 'Nebraska' 'North Dakota' 'New Mexico'\n",
      " 'North Carolina' 'Montana' 'Mississippi' 'Missouri' 'Minnesota'\n",
      " 'Michigan' 'Maine' 'Maryland' 'Massachusetts' 'Louisiana' 'Kentucky'\n",
      " 'Kansas' 'Indiana' 'Illinois' 'Idaho' 'Georgia' 'Iowa' 'Florida'\n",
      " 'Delaware' 'Connecticut' 'California' 'Arizona' 'Arkansas' 'Alabama'\n",
      " 'Alaska' 'Colorado']\n"
     ]
    }
   ],
   "source": [
    "# Get the unique states in the 'state' column\n",
    "unique_states = bf_geocode['state'].unique()\n",
    "\n",
    "print(unique_states) #checking if the states are spelled correctly \n",
    "      "
   ]
  },
  {
   "cell_type": "code",
   "execution_count": 125,
   "metadata": {},
   "outputs": [],
   "source": [
    "# Define regions by state\n",
    "west_states = ['Alaska', 'Arizona', 'California', 'Hawaii', 'Idaho','Colorado', 'Montana', 'Nevada', 'New Mexico', 'Utah', 'Oregon', 'Washington', 'Wyoming']\n",
    "midwest_states = ['Illinois', 'Indiana', 'Iowa', 'Kansas', 'Michigan', 'Minnesota', 'Missouri', 'Nebraska', 'North Dakota', 'Ohio', 'South Dakota', 'Wisconsin']\n",
    "south_states = ['Alabama', 'Arkansas', 'Delaware', 'District of Columbia','Florida', 'Georgia', 'Kentucky', 'Louisiana', 'Maryland', 'Mississippi', 'North Carolina', 'Oklahoma', 'South Carolina', 'Tennessee', 'Texas', 'Virginia', 'West Virginia']\n",
    "north_east_states = ['Connecticut', 'Maine', 'Massachusetts', 'New Hampshire', 'New Jersey', 'New York', 'Pennsylvania', 'Rhode Island', 'Vermont']\n",
    "\n",
    "def assign_region(state):\n",
    "    if state in west_states:\n",
    "        return 'West'\n",
    "    elif state in midwest_states:\n",
    "        return 'Midwest'\n",
    "    elif state in south_states:\n",
    "        return 'South'\n",
    "    elif state in north_east_states:\n",
    "        return 'Northeast'\n",
    "    else:\n",
    "        return 'Other'\n"
   ]
  },
  {
   "cell_type": "code",
   "execution_count": 126,
   "metadata": {},
   "outputs": [
    {
     "name": "stdout",
     "output_type": "stream",
     "text": [
      "           state classification     region\n",
      "0        Wyoming        Class B       West\n",
      "1  West Virginia        Class A      South\n",
      "2        Vermont        Class A  Northeast\n",
      "3       Virginia        Class A      South\n",
      "4          Texas        Class A      South\n"
     ]
    }
   ],
   "source": [
    "#Create another column called region\n",
    "bf_geocode['region'] = bf_geocode['state'].apply(assign_region)\n",
    "\n",
    "# Display the first few rows to verify\n",
    "print(bf_geocode.head())"
   ]
  },
  {
   "cell_type": "code",
   "execution_count": 127,
   "metadata": {},
   "outputs": [
    {
     "name": "stdout",
     "output_type": "stream",
     "text": [
      "Total number of entries in the 'state' column: 5082\n",
      "Total number of entries in the 'region' column: 5082\n"
     ]
    }
   ],
   "source": [
    "#Check to see how many rows there are\n",
    "total_states = bf_geocode['state'].shape[0]\n",
    "\n",
    "print(\"Total number of entries in the 'state' column:\", total_states)\n",
    "\n",
    "#Check to see how many rows there are in 'region' column\n",
    "total_region = bf_geocode['region'].shape[0]\n",
    "\n",
    "print(\"Total number of entries in the 'region' column:\", total_region)"
   ]
  },
  {
   "cell_type": "code",
   "execution_count": 138,
   "metadata": {},
   "outputs": [
    {
     "name": "stdout",
     "output_type": "stream",
     "text": [
      "region\n",
      "West         1797\n",
      "South        1594\n",
      "Midwest      1292\n",
      "Northeast     399\n",
      "Name: count, dtype: int64\n"
     ]
    }
   ],
   "source": [
    "#Total number of sightings in each region\n",
    "print(bf_geocode['region'].value_counts())\n",
    "\n",
    "#As well check to see if there is any categorized as 'other'"
   ]
  },
  {
   "cell_type": "code",
   "execution_count": 137,
   "metadata": {},
   "outputs": [
    {
     "name": "stdout",
     "output_type": "stream",
     "text": [
      "region     classification\n",
      "Midwest    Class A           641\n",
      "           Class B           645\n",
      "           Class C             6\n",
      "Northeast  Class A           179\n",
      "           Class B           219\n",
      "           Class C             1\n",
      "South      Class A           885\n",
      "           Class B           699\n",
      "           Class C            10\n",
      "West       Class A           797\n",
      "           Class B           987\n",
      "           Class C            13\n",
      "dtype: int64\n"
     ]
    }
   ],
   "source": [
    "# Count sightings by region and classification\n",
    "region_classification_counts = bf_geocode.groupby(['region', 'classification']).size()\n",
    "\n",
    "# Display the result\n",
    "print(region_classification_counts)"
   ]
  },
  {
   "cell_type": "code",
   "execution_count": 142,
   "metadata": {},
   "outputs": [
    {
     "data": {
      "image/png": "[encoded data removed]",
      "text/plain": [
       "<Figure size 600x400 with 1 Axes>"
      ]
     },
     "metadata": {},
     "output_type": "display_data"
    }
   ],
   "source": [
    "import matplotlib.pyplot as plt\n",
    "\n",
    "# Convert the Series to a DataFrame\n",
    "region_classification_df = region_classification_counts.reset_index(name='count')\n",
    "\n",
    "# Sum the counts for each region\n",
    "total_sightings_by_region = region_classification_df.groupby('region')['count'].sum()\n",
    "\n",
    "# Define the desired order of regions\n",
    "desired_order = ['West', 'Midwest', 'South', 'Northeast']  # Update this list as needed\n",
    "\n",
    "# Reorder the DataFrame according to the desired order\n",
    "total_sightings_by_region = total_sightings_by_region.reindex(desired_order)\n",
    "\n",
    "# Define colors for each region\n",
    "colors = {\n",
    "    'West': '#1f77b4',        # Blue\n",
    "    'Midwest': '#ff7f0e',     # Orange\n",
    "    'South': '#2ca02c',       # Green\n",
    "    'Northeast': '#d62728'    # Red\n",
    "}\n",
    "\n",
    "# Create the bar chart with region-specific colors\n",
    "total_sightings_by_region.plot(kind='bar', figsize=(6, 4), color=[colors[region] for region in total_sightings_by_region.index])\n",
    "\n",
    "# Add titles and labels\n",
    "plt.title('Total Number of Bigfoot Sightings by Region')\n",
    "plt.xlabel('Region')\n",
    "plt.ylabel('Total Number of Sightings')\n",
    "\n",
    "# Show the plot\n",
    "plt.show()"
   ]
  }
 ],
 "metadata": {
  "kernelspec": {
   "display_name": "base",
   "language": "python",
   "name": "python3"
  },
  "language_info": {
   "codemirror_mode": {
    "name": "ipython",
    "version": 3
   },
   "file_extension": ".py",
   "mimetype": "text/x-python",
   "name": "python",
   "nbconvert_exporter": "python",
   "pygments_lexer": "ipython3",
   "version": "3.12.4"
  }
 },
 "nbformat": 4,
 "nbformat_minor": 2
}

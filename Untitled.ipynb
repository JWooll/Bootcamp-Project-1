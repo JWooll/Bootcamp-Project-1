{
 "cells": [
  {
   "cell_type": "code",
   "execution_count": 13,
   "id": "c53942fc-e51b-48b4-8c24-11194366a544",
   "metadata": {},
   "outputs": [],
   "source": [
    "import pandas as pd\n",
    "bfro_data = pd.read_csv(\"bfro_locations.csv\")\n",
    "import hvplot.pandas\n"
   ]
  },
  {
   "cell_type": "code",
   "execution_count": 17,
   "id": "0cbbf282-87dc-4d14-88f4-fb01167cf8cb",
   "metadata": {},
   "outputs": [
    {
     "name": "stdout",
     "output_type": "stream",
     "text": [
      "  classification  count  avg_latitude  avg_longitude  min_latitude  \\\n",
      "0        Class A   2114     39.290817   -3931.165495      25.14100   \n",
      "1        Class B   2176     40.377413 -126738.981295      25.19935   \n",
      "2        Class C     19     38.968547     -99.318714      28.21492   \n",
      "\n",
      "   max_latitude  min_longitude  max_longitude  \n",
      "0      64.89139  -4.319942e+06      -64.46270  \n",
      "1      63.98869  -9.486840e+07      -63.83683  \n",
      "2      48.03278  -1.242933e+02      -82.45240  \n"
     ]
    }
   ],
   "source": [
    "# Grouping the data by classification and calculating statistics for latitude and longitude\n",
    "classification_summary = bfro_data.groupby('classification').agg(\n",
    "    count=('number', 'size'),\n",
    "    avg_latitude=('latitude', 'mean'),\n",
    "    avg_longitude=('longitude', 'mean'),\n",
    "    min_latitude=('latitude', 'min'),\n",
    "    max_latitude=('latitude', 'max'),\n",
    "    min_longitude=('longitude', 'min'),\n",
    "    max_longitude=('longitude', 'max')\n",
    ").reset_index()\n",
    "# Display classification\n",
    "print(classification_summary)\n"
   ]
  },
  {
   "cell_type": "code",
   "execution_count": 18,
   "id": "eb8ca65d-e6f7-41d1-9c99-f050363ba413",
   "metadata": {},
   "outputs": [
    {
     "name": "stdout",
     "output_type": "stream",
     "text": [
      "  classification  count       earliest_report         latest_report  \\\n",
      "0        Class A   2114  1869-11-10T12:00:00Z  2023-02-09T12:00:00Z   \n",
      "1        Class B   2176  1925-10-14T12:00:00Z  2023-02-28T12:00:00Z   \n",
      "2        Class C     19  1968-08-15T12:00:00Z  2004-09-15T12:00:00Z   \n",
      "\n",
      "   avg_latitude  avg_longitude  min_latitude  max_latitude  min_longitude  \\\n",
      "0     39.290817   -3931.165495      25.14100      64.89139  -4.319942e+06   \n",
      "1     40.377413 -126738.981295      25.19935      63.98869  -9.486840e+07   \n",
      "2     38.968547     -99.318714      28.21492      48.03278  -1.242933e+02   \n",
      "\n",
      "   max_longitude  \n",
      "0      -64.46270  \n",
      "1      -63.83683  \n",
      "2      -82.45240  \n"
     ]
    }
   ],
   "source": [
    "# Grouping the data by classification and calculating statistics for timestamp, latitude, and longitude\n",
    "classification_time_summary = bfro_data.groupby('classification').agg(\n",
    "    count=('number', 'size'),\n",
    "    earliest_report=('timestamp', 'min'),\n",
    "    latest_report=('timestamp', 'max'),\n",
    "    avg_latitude=('latitude', 'mean'),\n",
    "    avg_longitude=('longitude', 'mean'),\n",
    "    min_latitude=('latitude', 'min'),\n",
    "    max_latitude=('latitude', 'max'),\n",
    "    min_longitude=('longitude', 'min'),\n",
    "    max_longitude=('longitude', 'max')\n",
    ").reset_index()\n",
    "# Display classification time summary\n",
    "print(classification_time_summary)"
   ]
  },
  {
   "cell_type": "code",
   "execution_count": 19,
   "id": "2ce828e2-ff3f-4d63-a094-5d40f4d78984",
   "metadata": {},
   "outputs": [
    {
     "ename": "DataError",
     "evalue": "Supplied data does not contain specified dimensions, the following dimensions were not found: ['longitude', 'latitude']\n\nPandasInterface expects tabular data, for more information on supported datatypes see https://holoviews.org/user_guide/Tabular_Datasets.html",
     "output_type": "error",
     "traceback": [
      "\u001b[0;31m---------------------------------------------------------------------------\u001b[0m",
      "\u001b[0;31mDataError\u001b[0m                                 Traceback (most recent call last)",
      "Cell \u001b[0;32mIn[19], line 2\u001b[0m\n\u001b[1;32m      1\u001b[0m \u001b[38;5;66;03m# Configure the map plot_1\u001b[39;00m\n\u001b[0;32m----> 2\u001b[0m map_plot_1 \u001b[38;5;241m=\u001b[39m \u001b[43mclassification_time_summary\u001b[49m\u001b[38;5;241;43m.\u001b[39;49m\u001b[43mhvplot\u001b[49m\u001b[38;5;241;43m.\u001b[39;49m\u001b[43mpoints\u001b[49m\u001b[43m(\u001b[49m\n\u001b[1;32m      3\u001b[0m \u001b[43m    \u001b[49m\u001b[38;5;124;43m\"\u001b[39;49m\u001b[38;5;124;43mlongitude\u001b[39;49m\u001b[38;5;124;43m\"\u001b[39;49m\u001b[43m,\u001b[49m\n\u001b[1;32m      4\u001b[0m \u001b[43m    \u001b[49m\u001b[38;5;124;43m\"\u001b[39;49m\u001b[38;5;124;43mlatitude\u001b[39;49m\u001b[38;5;124;43m\"\u001b[39;49m\u001b[43m,\u001b[49m\n\u001b[1;32m      5\u001b[0m \u001b[43m    \u001b[49m\u001b[43mgeo\u001b[49m\u001b[43m \u001b[49m\u001b[38;5;241;43m=\u001b[39;49m\u001b[43m \u001b[49m\u001b[38;5;28;43;01mTrue\u001b[39;49;00m\u001b[43m,\u001b[49m\n\u001b[1;32m      6\u001b[0m \u001b[43m    \u001b[49m\u001b[43mtiles\u001b[49m\u001b[43m \u001b[49m\u001b[38;5;241;43m=\u001b[39;49m\u001b[43m \u001b[49m\u001b[38;5;124;43m\"\u001b[39;49m\u001b[38;5;124;43mOSM\u001b[39;49m\u001b[38;5;124;43m\"\u001b[39;49m\n\u001b[1;32m      7\u001b[0m \u001b[43m)\u001b[49m\n\u001b[1;32m      9\u001b[0m \u001b[38;5;66;03m# Display the map plot_1\u001b[39;00m\n\u001b[1;32m     10\u001b[0m map_plot_1\n",
      "File \u001b[0;32m/opt/anaconda3/envs/dev/lib/python3.10/site-packages/hvplot/plotting/core.py:1672\u001b[0m, in \u001b[0;36mhvPlotTabular.points\u001b[0;34m(self, x, y, **kwds)\u001b[0m\n\u001b[1;32m   1614\u001b[0m \u001b[38;5;28;01mdef\u001b[39;00m \u001b[38;5;21mpoints\u001b[39m(\u001b[38;5;28mself\u001b[39m, x\u001b[38;5;241m=\u001b[39m\u001b[38;5;28;01mNone\u001b[39;00m, y\u001b[38;5;241m=\u001b[39m\u001b[38;5;28;01mNone\u001b[39;00m, \u001b[38;5;241m*\u001b[39m\u001b[38;5;241m*\u001b[39mkwds):\n\u001b[1;32m   1615\u001b[0m \u001b[38;5;250m    \u001b[39m\u001b[38;5;124;03m\"\"\"\u001b[39;00m\n\u001b[1;32m   1616\u001b[0m \u001b[38;5;124;03m    A `points` plot visualizes positions in a 2D space. This is useful for example for\u001b[39;00m\n\u001b[1;32m   1617\u001b[0m \u001b[38;5;124;03m    geographic plots.\u001b[39;00m\n\u001b[0;32m   (...)\u001b[0m\n\u001b[1;32m   1670\u001b[0m \u001b[38;5;124;03m    - HoloViews: https://holoviews.org/reference/elements/bokeh/Points.html\u001b[39;00m\n\u001b[1;32m   1671\u001b[0m \u001b[38;5;124;03m    \"\"\"\u001b[39;00m\n\u001b[0;32m-> 1672\u001b[0m     \u001b[38;5;28;01mreturn\u001b[39;00m \u001b[38;5;28;43mself\u001b[39;49m\u001b[43m(\u001b[49m\u001b[43mx\u001b[49m\u001b[43m,\u001b[49m\u001b[43m \u001b[49m\u001b[43my\u001b[49m\u001b[43m,\u001b[49m\u001b[43m \u001b[49m\u001b[43mkind\u001b[49m\u001b[38;5;241;43m=\u001b[39;49m\u001b[38;5;124;43m'\u001b[39;49m\u001b[38;5;124;43mpoints\u001b[39;49m\u001b[38;5;124;43m'\u001b[39;49m\u001b[43m,\u001b[49m\u001b[43m \u001b[49m\u001b[38;5;241;43m*\u001b[39;49m\u001b[38;5;241;43m*\u001b[39;49m\u001b[43mkwds\u001b[49m\u001b[43m)\u001b[49m\n",
      "File \u001b[0;32m/opt/anaconda3/envs/dev/lib/python3.10/site-packages/hvplot/plotting/core.py:95\u001b[0m, in \u001b[0;36mhvPlotBase.__call__\u001b[0;34m(self, x, y, kind, **kwds)\u001b[0m\n\u001b[1;32m     92\u001b[0m         plot \u001b[38;5;241m=\u001b[39m \u001b[38;5;28mself\u001b[39m\u001b[38;5;241m.\u001b[39m_get_converter(x, y, kind, \u001b[38;5;241m*\u001b[39m\u001b[38;5;241m*\u001b[39mkwds)(kind, x, y)\n\u001b[1;32m     93\u001b[0m         \u001b[38;5;28;01mreturn\u001b[39;00m pn\u001b[38;5;241m.\u001b[39mpanel(plot, \u001b[38;5;241m*\u001b[39m\u001b[38;5;241m*\u001b[39mpanel_dict)\n\u001b[0;32m---> 95\u001b[0m \u001b[38;5;28;01mreturn\u001b[39;00m \u001b[38;5;28;43mself\u001b[39;49m\u001b[38;5;241;43m.\u001b[39;49m\u001b[43m_get_converter\u001b[49m\u001b[43m(\u001b[49m\u001b[43mx\u001b[49m\u001b[43m,\u001b[49m\u001b[43m \u001b[49m\u001b[43my\u001b[49m\u001b[43m,\u001b[49m\u001b[43m \u001b[49m\u001b[43mkind\u001b[49m\u001b[43m,\u001b[49m\u001b[43m \u001b[49m\u001b[38;5;241;43m*\u001b[39;49m\u001b[38;5;241;43m*\u001b[39;49m\u001b[43mkwds\u001b[49m\u001b[43m)\u001b[49m\u001b[43m(\u001b[49m\u001b[43mkind\u001b[49m\u001b[43m,\u001b[49m\u001b[43m \u001b[49m\u001b[43mx\u001b[49m\u001b[43m,\u001b[49m\u001b[43m \u001b[49m\u001b[43my\u001b[49m\u001b[43m)\u001b[49m\n",
      "File \u001b[0;32m/opt/anaconda3/envs/dev/lib/python3.10/site-packages/hvplot/converter.py:1661\u001b[0m, in \u001b[0;36mHoloViewsConverter.__call__\u001b[0;34m(self, kind, x, y)\u001b[0m\n\u001b[1;32m   1658\u001b[0m                 dataset \u001b[38;5;241m=\u001b[39m Dataset(data)\n\u001b[1;32m   1659\u001b[0m             dataset \u001b[38;5;241m=\u001b[39m dataset\u001b[38;5;241m.\u001b[39mredim(\u001b[38;5;241m*\u001b[39m\u001b[38;5;241m*\u001b[39m\u001b[38;5;28mself\u001b[39m\u001b[38;5;241m.\u001b[39m_redim)\n\u001b[0;32m-> 1661\u001b[0m         obj \u001b[38;5;241m=\u001b[39m \u001b[43mmethod\u001b[49m\u001b[43m(\u001b[49m\u001b[43mx\u001b[49m\u001b[43m,\u001b[49m\u001b[43m \u001b[49m\u001b[43my\u001b[49m\u001b[43m)\u001b[49m\n\u001b[1;32m   1662\u001b[0m         obj\u001b[38;5;241m.\u001b[39m_dataset \u001b[38;5;241m=\u001b[39m dataset\n\u001b[1;32m   1664\u001b[0m \u001b[38;5;28;01mif\u001b[39;00m \u001b[38;5;28mself\u001b[39m\u001b[38;5;241m.\u001b[39mcrs \u001b[38;5;129;01mand\u001b[39;00m \u001b[38;5;28mself\u001b[39m\u001b[38;5;241m.\u001b[39mproject:\n\u001b[1;32m   1665\u001b[0m     \u001b[38;5;66;03m# Apply projection before rasterizing\u001b[39;00m\n",
      "File \u001b[0;32m/opt/anaconda3/envs/dev/lib/python3.10/site-packages/hvplot/converter.py:2841\u001b[0m, in \u001b[0;36mHoloViewsConverter.points\u001b[0;34m(self, x, y, data)\u001b[0m\n\u001b[1;32m   2839\u001b[0m \u001b[38;5;28;01mdef\u001b[39;00m \u001b[38;5;21mpoints\u001b[39m(\u001b[38;5;28mself\u001b[39m, x\u001b[38;5;241m=\u001b[39m\u001b[38;5;28;01mNone\u001b[39;00m, y\u001b[38;5;241m=\u001b[39m\u001b[38;5;28;01mNone\u001b[39;00m, data\u001b[38;5;241m=\u001b[39m\u001b[38;5;28;01mNone\u001b[39;00m):\n\u001b[1;32m   2840\u001b[0m     \u001b[38;5;28mself\u001b[39m\u001b[38;5;241m.\u001b[39m_error_if_unavailable(\u001b[38;5;124m'\u001b[39m\u001b[38;5;124mpoints\u001b[39m\u001b[38;5;124m'\u001b[39m)\n\u001b[0;32m-> 2841\u001b[0m     \u001b[38;5;28;01mreturn\u001b[39;00m \u001b[38;5;28;43mself\u001b[39;49m\u001b[38;5;241;43m.\u001b[39;49m\u001b[43m_geom_plot\u001b[49m\u001b[43m(\u001b[49m\u001b[43mx\u001b[49m\u001b[43m,\u001b[49m\u001b[43m \u001b[49m\u001b[43my\u001b[49m\u001b[43m,\u001b[49m\u001b[43m \u001b[49m\u001b[43mdata\u001b[49m\u001b[43m,\u001b[49m\u001b[43m \u001b[49m\u001b[43mkind\u001b[49m\u001b[38;5;241;43m=\u001b[39;49m\u001b[38;5;124;43m'\u001b[39;49m\u001b[38;5;124;43mpoints\u001b[39;49m\u001b[38;5;124;43m'\u001b[39;49m\u001b[43m)\u001b[49m\n",
      "File \u001b[0;32m/opt/anaconda3/envs/dev/lib/python3.10/site-packages/hvplot/converter.py:2823\u001b[0m, in \u001b[0;36mHoloViewsConverter._geom_plot\u001b[0;34m(self, x, y, data, kind)\u001b[0m\n\u001b[1;32m   2821\u001b[0m         obj \u001b[38;5;241m=\u001b[39m obj\u001b[38;5;241m.\u001b[39moverlay(sort\u001b[38;5;241m=\u001b[39m\u001b[38;5;28;01mFalse\u001b[39;00m)\n\u001b[1;32m   2822\u001b[0m \u001b[38;5;28;01melse\u001b[39;00m:\n\u001b[0;32m-> 2823\u001b[0m     obj \u001b[38;5;241m=\u001b[39m \u001b[43melement\u001b[49m\u001b[43m(\u001b[49m\u001b[43mdata\u001b[49m\u001b[43m,\u001b[49m\u001b[43m \u001b[49m\u001b[43mkdims\u001b[49m\u001b[43m,\u001b[49m\u001b[43m \u001b[49m\u001b[43mvdims\u001b[49m\u001b[43m,\u001b[49m\u001b[43m \u001b[49m\u001b[38;5;241;43m*\u001b[39;49m\u001b[38;5;241;43m*\u001b[39;49m\u001b[43mparams\u001b[49m\u001b[43m)\u001b[49m\n\u001b[1;32m   2825\u001b[0m \u001b[38;5;28;01mreturn\u001b[39;00m (\n\u001b[1;32m   2826\u001b[0m     obj\u001b[38;5;241m.\u001b[39mredim(\u001b[38;5;241m*\u001b[39m\u001b[38;5;241m*\u001b[39mredim)\n\u001b[1;32m   2827\u001b[0m     \u001b[38;5;241m.\u001b[39mopts({element\u001b[38;5;241m.\u001b[39mname: cur_opts}, backend\u001b[38;5;241m=\u001b[39m\u001b[38;5;124m'\u001b[39m\u001b[38;5;124mbokeh\u001b[39m\u001b[38;5;124m'\u001b[39m)\n\u001b[1;32m   2828\u001b[0m     \u001b[38;5;241m.\u001b[39mopts({element\u001b[38;5;241m.\u001b[39mname: compat_opts}, backend\u001b[38;5;241m=\u001b[39m\u001b[38;5;28mself\u001b[39m\u001b[38;5;241m.\u001b[39m_backend_compat)\n\u001b[1;32m   2829\u001b[0m )\n",
      "File \u001b[0;32m/opt/anaconda3/envs/dev/lib/python3.10/site-packages/geoviews/element/geo.py:120\u001b[0m, in \u001b[0;36m_Element.__init__\u001b[0;34m(self, data, kdims, vdims, **kwargs)\u001b[0m\n\u001b[1;32m    118\u001b[0m \u001b[38;5;28;01melif\u001b[39;00m \u001b[38;5;28misinstance\u001b[39m(data, _Element):\n\u001b[1;32m    119\u001b[0m     kwargs[\u001b[38;5;124m'\u001b[39m\u001b[38;5;124mcrs\u001b[39m\u001b[38;5;124m'\u001b[39m] \u001b[38;5;241m=\u001b[39m data\u001b[38;5;241m.\u001b[39mcrs\n\u001b[0;32m--> 120\u001b[0m \u001b[38;5;28;43msuper\u001b[39;49m\u001b[43m(\u001b[49m\u001b[43m)\u001b[49m\u001b[38;5;241;43m.\u001b[39;49m\u001b[38;5;21;43m__init__\u001b[39;49m\u001b[43m(\u001b[49m\u001b[43mdata\u001b[49m\u001b[43m,\u001b[49m\u001b[43m \u001b[49m\u001b[43mkdims\u001b[49m\u001b[38;5;241;43m=\u001b[39;49m\u001b[43mkdims\u001b[49m\u001b[43m,\u001b[49m\u001b[43m \u001b[49m\u001b[43mvdims\u001b[49m\u001b[38;5;241;43m=\u001b[39;49m\u001b[43mvdims\u001b[49m\u001b[43m,\u001b[49m\u001b[43m \u001b[49m\u001b[38;5;241;43m*\u001b[39;49m\u001b[38;5;241;43m*\u001b[39;49m\u001b[43mkwargs\u001b[49m\u001b[43m)\u001b[49m\n",
      "File \u001b[0;32m/opt/anaconda3/envs/dev/lib/python3.10/site-packages/holoviews/element/selection.py:25\u001b[0m, in \u001b[0;36mSelectionIndexExpr.__init__\u001b[0;34m(self, *args, **kwargs)\u001b[0m\n\u001b[1;32m     24\u001b[0m \u001b[38;5;28;01mdef\u001b[39;00m \u001b[38;5;21m__init__\u001b[39m(\u001b[38;5;28mself\u001b[39m, \u001b[38;5;241m*\u001b[39margs, \u001b[38;5;241m*\u001b[39m\u001b[38;5;241m*\u001b[39mkwargs):\n\u001b[0;32m---> 25\u001b[0m     \u001b[38;5;28;43msuper\u001b[39;49m\u001b[43m(\u001b[49m\u001b[43m)\u001b[49m\u001b[38;5;241;43m.\u001b[39;49m\u001b[38;5;21;43m__init__\u001b[39;49m\u001b[43m(\u001b[49m\u001b[38;5;241;43m*\u001b[39;49m\u001b[43margs\u001b[49m\u001b[43m,\u001b[49m\u001b[43m \u001b[49m\u001b[38;5;241;43m*\u001b[39;49m\u001b[38;5;241;43m*\u001b[39;49m\u001b[43mkwargs\u001b[49m\u001b[43m)\u001b[49m\n\u001b[1;32m     26\u001b[0m     \u001b[38;5;28mself\u001b[39m\u001b[38;5;241m.\u001b[39m_index_skip \u001b[38;5;241m=\u001b[39m \u001b[38;5;28;01mFalse\u001b[39;00m\n",
      "File \u001b[0;32m/opt/anaconda3/envs/dev/lib/python3.10/site-packages/holoviews/core/data/__init__.py:333\u001b[0m, in \u001b[0;36mDataset.__init__\u001b[0;34m(self, data, kdims, vdims, **kwargs)\u001b[0m\n\u001b[1;32m    331\u001b[0m (data, \u001b[38;5;28mself\u001b[39m\u001b[38;5;241m.\u001b[39minterface, dims, extra_kws) \u001b[38;5;241m=\u001b[39m initialized\n\u001b[1;32m    332\u001b[0m \u001b[38;5;28msuper\u001b[39m()\u001b[38;5;241m.\u001b[39m\u001b[38;5;21m__init__\u001b[39m(data, \u001b[38;5;241m*\u001b[39m\u001b[38;5;241m*\u001b[39m\u001b[38;5;28mdict\u001b[39m(kwargs, \u001b[38;5;241m*\u001b[39m\u001b[38;5;241m*\u001b[39m\u001b[38;5;28mdict\u001b[39m(dims, \u001b[38;5;241m*\u001b[39m\u001b[38;5;241m*\u001b[39mextra_kws)))\n\u001b[0;32m--> 333\u001b[0m \u001b[38;5;28;43mself\u001b[39;49m\u001b[38;5;241;43m.\u001b[39;49m\u001b[43minterface\u001b[49m\u001b[38;5;241;43m.\u001b[39;49m\u001b[43mvalidate\u001b[49m\u001b[43m(\u001b[49m\u001b[38;5;28;43mself\u001b[39;49m\u001b[43m,\u001b[49m\u001b[43m \u001b[49m\u001b[43mvalidate_vdims\u001b[49m\u001b[43m)\u001b[49m\n\u001b[1;32m    335\u001b[0m \u001b[38;5;66;03m# Handle _pipeline property\u001b[39;00m\n\u001b[1;32m    336\u001b[0m \u001b[38;5;28;01mif\u001b[39;00m input_pipeline \u001b[38;5;129;01mis\u001b[39;00m \u001b[38;5;28;01mNone\u001b[39;00m:\n",
      "File \u001b[0;32m/opt/anaconda3/envs/dev/lib/python3.10/site-packages/holoviews/core/data/pandas.py:186\u001b[0m, in \u001b[0;36mPandasInterface.validate\u001b[0;34m(cls, dataset, vdims)\u001b[0m\n\u001b[1;32m    184\u001b[0m not_found \u001b[38;5;241m=\u001b[39m [d \u001b[38;5;28;01mfor\u001b[39;00m d \u001b[38;5;129;01min\u001b[39;00m dimensions \u001b[38;5;28;01mif\u001b[39;00m d \u001b[38;5;129;01mnot\u001b[39;00m \u001b[38;5;129;01min\u001b[39;00m cols]\n\u001b[1;32m    185\u001b[0m \u001b[38;5;28;01mif\u001b[39;00m not_found:\n\u001b[0;32m--> 186\u001b[0m     \u001b[38;5;28;01mraise\u001b[39;00m DataError(\u001b[38;5;124m\"\u001b[39m\u001b[38;5;124mSupplied data does not contain specified \u001b[39m\u001b[38;5;124m\"\u001b[39m\n\u001b[1;32m    187\u001b[0m                     \u001b[38;5;124m\"\u001b[39m\u001b[38;5;124mdimensions, the following dimensions were \u001b[39m\u001b[38;5;124m\"\u001b[39m\n\u001b[1;32m    188\u001b[0m                     \u001b[38;5;124mf\u001b[39m\u001b[38;5;124m\"\u001b[39m\u001b[38;5;124mnot found: \u001b[39m\u001b[38;5;132;01m{\u001b[39;00mnot_found\u001b[38;5;132;01m!r}\u001b[39;00m\u001b[38;5;124m\"\u001b[39m, \u001b[38;5;28mcls\u001b[39m)\n",
      "\u001b[0;31mDataError\u001b[0m: Supplied data does not contain specified dimensions, the following dimensions were not found: ['longitude', 'latitude']\n\nPandasInterface expects tabular data, for more information on supported datatypes see https://holoviews.org/user_guide/Tabular_Datasets.html"
     ]
    }
   ],
   "source": [
    "# Configure the map plot_1\n",
    "map_plot_1 = classification_time_summary.hvplot.points(\n",
    "    \"longitude\",\n",
    "    \"latitude\",\n",
    "    geo = True,\n",
    "    tiles = \"OSM\"\n",
    ")\n",
    "\n",
    "# Display the map plot_1\n",
    "map_plot_1"
   ]
  }
 ],
 "metadata": {
  "kernelspec": {
   "display_name": "Python 3 (ipykernel)",
   "language": "python",
   "name": "python3"
  },
  "language_info": {
   "codemirror_mode": {
    "name": "ipython",
    "version": 3
   },
   "file_extension": ".py",
   "mimetype": "text/x-python",
   "name": "python",
   "nbconvert_exporter": "python",
   "pygments_lexer": "ipython3",
   "version": "3.10.14"
  }
 },
 "nbformat": 4,
 "nbformat_minor": 5
}
